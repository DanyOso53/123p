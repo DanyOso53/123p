{
  "cells": [
    {
      "cell_type": "markdown",
      "metadata": {
        "id": "nUWO5QkC_g-4"
      },
      "source": [
        "**Tiro al blanco** es un juego en el que hay que disparar flechas puntiagudas a una diana circular con 10 anillos.\n",
        "\n",
        "<img src=\"https://s3-whjr-curriculum-uploads.whjr.online/4de9132a-c71d-42ce-9099-3293e8805fd9.jpg\"> "
      ]
    },
    {
      "cell_type": "markdown",
      "metadata": {
        "id": "5QtHLAqv3wP3"
      },
      "source": [
        "## RL Problema a resolver\n",
        "Atínale al centro de la diana con máxima recompensa."
      ]
    },
    {
      "cell_type": "markdown",
      "metadata": {
        "id": "Osb6FQ74YZtE"
      },
      "source": [
        "<img src=\"https://s3-whjr-curriculum-uploads.whjr.online/40656a8c-14e2-4dd7-9f9e-4c17669b9182.png\" width=300>\n",
        "\n",
        "\n",
        "Número de **estado**: ?\n",
        "\n",
        "Número de **acciones**: ?\n",
        "\n"
      ]
    },
    {
      "cell_type": "markdown",
      "metadata": {
        "id": "m3Ut2W9A4EiB"
      },
      "source": [
        "## Recompensas"
      ]
    },
    {
      "cell_type": "code",
      "execution_count": null,
      "metadata": {
        "id": "M2oIipDmeqap"
      },
      "outputs": [],
      "source": [
        "#Importar bibliotecas necesarias.\n",
        "import nltk\n",
        "\n",
        "from nltk.stem import PorterStemmer\n",
        "stemmer = PorterStemmer()\n",
        "\n",
        "import json\n",
        "import pickle\n",
        "\n",
        "import numpy as np\n",
        "import random\n"
      ]
    },
    {
      "cell_type": "markdown",
      "metadata": {
        "id": "Ujmi3BO54LfJ"
      },
      "source": [
        "## Matriz de recompensas\n",
        "La matriz de recompensas representa los estados como filas y las acciones como columnas, con los respectivos valores de recompensa asignados para un determinado par estado y acción."
      ]
    },
    {
      "cell_type": "code",
      "execution_count": null,
      "metadata": {
        "id": "OUqPgOl0eh2u"
      },
      "outputs": [],
      "source": [
        "#Crear una matriz de recompensas.\n",
        " day_entry_list = day_entry_list.iloc[::-1]\n",
        "    \n",
        "    date1 = (day_entry_list['date'].values[0])\n",
        "    date2 =(day_entry_list['date'].values[1])\n",
        "    date3 = (day_entry_list['date'].values[2])\n",
        "\n",
        "    entry1 = day_entry_list['text'].values[0]\n",
        "    entry2 = day_entry_list['text'].values[1]\n",
        "    entry3 = day_entry_list['text'].values[2]\n",
        "\n",
        "    emotion1 = day_entry_list[\"emotion\"].values[0]\n",
        "    emotion2 = day_entry_list[\"emotion\"].values[1]\n",
        "    emotion3 = day_entry_list[\"emotion\"].values[2]\n"
      ]
    },
    {
      "cell_type": "markdown",
      "metadata": {
        "id": "Af-CAmdfkDQY"
      },
      "source": [
        "## Tomar acción aleatoriamente"
      ]
    },
    {
      "cell_type": "code",
      "execution_count": null,
      "metadata": {
        "id": "ibSLCyMyigmK"
      },
      "outputs": [],
      "source": [
        "# Definir una función shoot() - (lanzar) para tomar una acción aleatoriamente.\n",
        "def bot_response(user_input):\n",
        "\n",
        "   predicted_class_label =  bot_class_prediction(user_input)\n",
        " \n",
        "   predicted_class = classes[predicted_class_label]\n",
        "\n",
        "\n",
        "   for intent in intents['intents']:\n",
        "      \n",
        "    if intent['tag']==predicted_class:\n",
        "       \n",
        "        bot_response = random.choice(intent['responses'])\n",
        "    \n",
        "        return bot_response\n",
        "    \n",
        "\n"
      ]
    }
  ],
  "metadata": {
    "colab": {
      "collapsed_sections": [],
      "name": "PRO-C123-Plantilla-del-código-del-proyecto.ipynb",
      "provenance": []
    },
    "kernelspec": {
      "display_name": "Python 3",
      "name": "python3"
    },
    "language_info": {
      "name": "python"
    }
  },
  "nbformat": 4,
  "nbformat_minor": 0
}
